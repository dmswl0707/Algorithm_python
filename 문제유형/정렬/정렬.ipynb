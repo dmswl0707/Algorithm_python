{
 "cells": [
  {
   "cell_type": "markdown",
   "metadata": {},
   "source": [
    "## 정렬 : 데이터를 특정 기준에 따라 나열하는 방식\n",
    "주로, 선택 정렬/삽입 정렬/퀵 정렬 순으로 많이 사용\n"
   ]
  },
  {
   "cell_type": "markdown",
   "metadata": {},
   "source": [
    "### 선택 정렬(selection sort)\n",
    "- 처리되지 않는 데이터 중, **가장 작은 수** 를 선택해 맨 앞에 데이터와 바꾸는 방식 \n",
    "- 중첩 반복문을 이용하여 사용 \n",
    "\n",
    "시간 복잡도 : O(N^2)\n",
    "\n",
    "```\n",
    "array = [5,7,2,6,1,8,9]\n",
    "for i in range(len(array)):\n",
    "    min_index = i # 가장 작은 원소 변수 설정\n",
    "    # for 문을 써서 나머지 범위를 줄여줌\n",
    "    for j in range(i+1, len(array)):\n",
    "        if array[min_index]> array[j]: # j번쨰 인덱스 값이 최솟값보다 작으면, 스와핑\n",
    "            min_index=j\n",
    "\n",
    "    array[i], array[min_index]=array[min_index], array[i]\n",
    "\n",
    "\n",
    "print(array)\n",
    "```"
   ]
  },
  {
   "cell_type": "markdown",
   "metadata": {},
   "source": [
    "### 삽입 정렬(Insert Sort)\n",
    "- 처리되지 않는 데이터 중, **데이터를 하나 콜라** 적절한 위치에 삽입  \n",
    "- 선택 정렬보다 더 효율적으로 동작  \n",
    "\n",
    "시간 복잡도 : O(N^2)\n",
    "\n",
    "```\n",
    "array = [5,7,2,6,1,8,9]\n",
    "for i in range(len(array)):\n",
    "    for j in range(i, 0, -1): # 인덱스 i부터 첫번째 인덱스까지 -1씩 감소하며 반복 (내부 리스트)\n",
    "        if array[j]<array[j-1]: \n",
    "            array[j], array[j-1] = array[j-1], array[j]\n",
    "        else:\n",
    "            break\n",
    "            \n",
    "print(array)\n",
    "```"
   ]
  },
  {
   "cell_type": "markdown",
   "metadata": {},
   "source": [
    "### 퀵 정렬(quick sort)\n",
    "- 기준 데이터 중, 기준 데이터보다 큰 데이터와 작은 데이터의 위치를 바꾸는 방법\n",
    "- 가장 많은 빈도로 사용되는 정렬 알고리즘\n",
    "- 기본적인 퀵 정렬의 기준은, 첫번째 데이터를 피봇으로 설정(첫번째 데이터를 기준으로 양쪽에서 데이터를 정렬)\n",
    "\n",
    "시간 복잡도 : O(NlogN), 최악인 경우 O(N^2)"
   ]
  },
  {
   "cell_type": "markdown",
   "metadata": {},
   "source": [
    "*일반적인 방식*\n",
    "\n",
    "```\n",
    "array = [5, 7, 2, 6, 1, 8, 9]\n",
    "\n",
    "def quick_sort(array, start, end):\n",
    "    if start>=end: #원소가 1개인 경우 종료\n",
    "        return\n",
    "    pivot = start\n",
    "    left = start + 1\n",
    "    right = end\n",
    "    \n",
    "    # 기본적으로 start가 작고, end가 클 때\n",
    "    if left<=right:\n",
    "        # 피벗보다 큰 데이터 찾을 때까지 반복\n",
    "        while left<=right and array[left]<=array[pivot]:\n",
    "            left += 1\n",
    "        # 피벗보다 작은 데이터 찾을 때까지 반봇\n",
    "        while right>start and array[right]>=array[pivot]:\n",
    "            right -= 1\n",
    "\n",
    "        if left > right: # 엇갈렸다면 작은 데이터와, 피벗 교체\n",
    "            array[right], array[pivot] = array[pivot], array[right]\n",
    "        else: # 엇갈리지 않았다면 오른쪽 데이터와 왼쪽 데이터 교체\n",
    "            array[left], array[right] = array[right], array[left]\n",
    "\n",
    "    quick_sort(array, start, right - 1)\n",
    "    quick_sort(array, right + 1, end)\n",
    "\n",
    "quick_sort(array, 0, len(array)-1)\n",
    "#print(array)\n",
    "```"
   ]
  },
  {
   "cell_type": "markdown",
   "metadata": {},
   "source": [
    "*파이썬 최적 방식*\n",
    "\n",
    "```\n",
    "array = [5, 7, 2, 6, 1, 8, 9]\n",
    "\n",
    "def quick_sort():\n",
    "    if len(array)<=1:\n",
    "        return array\n",
    "\n",
    "    pivot = array[0]\n",
    "    tail = array[1:]\n",
    "\n",
    "    left_side = [x for x in tail if x <= pivot]\n",
    "    right_side = [x for x in tail if x > pivot]\n",
    "    \n",
    "    return quick_sort(left_side) + [pivot] + quick_sort(right_side)\n",
    "\n",
    "print(quick_sort(array))\n",
    "```"
   ]
  },
  {
   "cell_type": "markdown",
   "metadata": {},
   "source": [
    "### 계수 정렬(Count sort)\n",
    "- 각 데이터가 등장하는 숫자를 인덱스로 저장\n",
    "- 인덱스 크기 만큼 각 숫자를 작은 값부터 출력\n",
    "\n",
    "1. 특정 조건이 부합할 때만 사용(모든 데이터가 정수이고, 같은 수가 빈번하게 일어날 때)\n",
    "2. 매우 빠른 정렬 알고리즘\n",
    "3. 데이터 갯수가 N, 데이터 중 최댓값이 K -> 시간복잡도 O(N+K), 공간복잡도 O(N+K)\n",
    "4. 비교를 통한 정렬 알고리즘이 X\n",
    "\n",
    "```\n",
    "array = [5, 7, 2, 6, 1, 8, 9]\n",
    "\n",
    "# 리스트 초기화 선언\n",
    "count = [0]*(max(array)+1)\n",
    "\n",
    "for i in range(len(array)):\n",
    "    count[array[i]] += 1\n",
    "\n",
    "for i in range(len(array)):\n",
    "    for j in range(count[i]):\n",
    "        print(i, end= \" \")\n",
    "```\n",
    "\n",
    "\n"
   ]
  },
  {
   "cell_type": "markdown",
   "metadata": {},
   "source": [
    "### 파이썬 정렬 라이브러리\n",
    "*sorted(), sort() 차이*\n",
    "1. sorted()\n",
    "- sorted 가 리스트 복사\n",
    "- 정렬된 리스트를 반환\n",
    "- sort보다 메모리 용량을 늘어남\n",
    "\n",
    "2. sort()\n",
    "- 원본 리스트의 요소를 변환\n",
    "- sorted 보다 메모리 측면에서 더 효율적\n",
    "\n",
    "```\n",
    "def setting(data):\n",
    "    return data[1]\n",
    "    \n",
    "result = sorted(array, key=setting)\n",
    "print(result)\n",
    "```"
   ]
  }
 ],
 "metadata": {
  "kernelspec": {
   "display_name": "Python 2.7.16 ('list': venv)",
   "language": "python",
   "name": "python3"
  },
  "language_info": {
   "name": "python",
   "version": "2.7.16"
  },
  "orig_nbformat": 4,
  "vscode": {
   "interpreter": {
    "hash": "8ed2dddf0192fa7339af865e3f80f12a6d0526f6382280dd0c46b88af0193c80"
   }
  }
 },
 "nbformat": 4,
 "nbformat_minor": 2
}
